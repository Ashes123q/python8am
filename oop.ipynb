{
 "cells": [
  {
   "cell_type": "code",
   "execution_count": 1,
   "id": "6b92d1c8",
   "metadata": {},
   "outputs": [
    {
     "name": "stdout",
     "output_type": "stream",
     "text": [
      "Hello World\n"
     ]
    }
   ],
   "source": [
    "class Hello:\n",
    "    print(\"Hello World\")\n",
    "    \n",
    "obj = Hello()"
   ]
  },
  {
   "cell_type": "code",
   "execution_count": 5,
   "id": "142c40ee",
   "metadata": {},
   "outputs": [
    {
     "name": "stdout",
     "output_type": "stream",
     "text": [
      "Hello World\n"
     ]
    }
   ],
   "source": [
    "class Hello:\n",
    "    @staticmethod\n",
    "    def hello():\n",
    "        print(\"Hello World\")\n",
    "        \n",
    "obj = Hello()\n",
    "obj.hello()\n"
   ]
  },
  {
   "cell_type": "code",
   "execution_count": 6,
   "id": "978f1e02",
   "metadata": {},
   "outputs": [
    {
     "name": "stdout",
     "output_type": "stream",
     "text": [
      "Hello World\n"
     ]
    }
   ],
   "source": [
    "class Hello:\n",
    "    def hello(self):\n",
    "        print(\"Hello World\")\n",
    "\n",
    "obj = Hello()\n",
    "obj.hello()"
   ]
  },
  {
   "cell_type": "code",
   "execution_count": null,
   "id": "06ca2bed",
   "metadata": {},
   "outputs": [],
   "source": [
    "class Cal:\n",
    "    @staticmethod\n",
    "    def area():\n",
    "        l = 10\n",
    "        b = 5\n",
    "        return l*b\n",
    "    def volume(self,l,b,h):\n",
    "        v = l*b*h\n",
    "        return v\n",
    "    \n",
    "obj = Cal()\n",
    "print(obj.area())\n",
    "print(obj.volume(10,5,2))\n",
    "\n"
   ]
  },
  {
   "cell_type": "code",
   "execution_count": 7,
   "id": "21aea0fe",
   "metadata": {},
   "outputs": [
    {
     "name": "stdout",
     "output_type": "stream",
     "text": [
      "10\n",
      "100\n"
     ]
    }
   ],
   "source": [
    "class Area:\n",
    "    def area(self,l,b):\n",
    "        return l*b\n",
    "class Volume:\n",
    "    def volume(self,l,b,h):\n",
    "        v = l*b*h\n",
    "        return v\n",
    "    \n",
    "obj = Area()\n",
    "obj1 = Volume()\n",
    "print(obj.area(5,2))\n",
    "print(obj1.volume(10,5,2))\n"
   ]
  },
  {
   "cell_type": "code",
   "execution_count": 11,
   "id": "44d95b9f",
   "metadata": {},
   "outputs": [
    {
     "name": "stdout",
     "output_type": "stream",
     "text": [
      "50\n",
      "100\n"
     ]
    }
   ],
   "source": [
    "class Cal:\n",
    "    def __init__(self,l,b,h):\n",
    "        self.l = l\n",
    "        self.b = b\n",
    "        self.h = h\n",
    "        \n",
    "    def area(self):\n",
    "        return self.l*self.b\n",
    "    \n",
    "    def volume(self):\n",
    "        v = self.l*self.b*self.h\n",
    "        return v\n",
    "    \n",
    "obj = Cal(10,5,2)\n",
    "print(obj.area())\n",
    "print(obj.volume())\n"
   ]
  },
  {
   "cell_type": "code",
   "execution_count": 13,
   "id": "679d53fd",
   "metadata": {},
   "outputs": [],
   "source": [
    "l = []\n",
    "l.append(\"a\")"
   ]
  },
  {
   "cell_type": "code",
   "execution_count": 14,
   "id": "9b929910",
   "metadata": {},
   "outputs": [
    {
     "name": "stdout",
     "output_type": "stream",
     "text": [
      "50\n",
      "100\n"
     ]
    }
   ],
   "source": [
    "class Cal:\n",
    "    def __init__(self,l,b):\n",
    "        self.l = l\n",
    "        self.b = b\n",
    "        \n",
    "    def area(self):\n",
    "        return self.l*self.b\n",
    "    \n",
    "    def volume(self,h):\n",
    "        v = self.l*self.b*h\n",
    "        return v\n",
    "    \n",
    "obj = Cal(10,5)\n",
    "print(obj.area())\n",
    "print(obj.volume(2))\n"
   ]
  },
  {
   "cell_type": "code",
   "execution_count": 15,
   "id": "8c6c4f6f",
   "metadata": {},
   "outputs": [
    {
     "name": "stdout",
     "output_type": "stream",
     "text": [
      "enter value of length = 5\n",
      "enter value of breadth = 6\n",
      "enter value of height = 7\n",
      "30\n",
      "210\n"
     ]
    }
   ],
   "source": [
    "class Cal:\n",
    "    def __init__(self,l,b,h):\n",
    "        self.l = int(input(\"enter value of length = \"))\n",
    "        self.b = int(input(\"enter value of breadth = \"))\n",
    "        self.h = int(input(\"enter value of height = \"))\n",
    "        \n",
    "    def area(self):\n",
    "        return self.l*self.b\n",
    "    \n",
    "    def volume(self):\n",
    "        v = self.l*self.b*self.h\n",
    "        return v\n",
    "    \n",
    "obj = Cal(10,5,2)\n",
    "print(obj.area())\n",
    "print(obj.volume())\n"
   ]
  },
  {
   "cell_type": "code",
   "execution_count": null,
   "id": "2a6cff89",
   "metadata": {},
   "outputs": [],
   "source": []
  }
 ],
 "metadata": {
  "kernelspec": {
   "display_name": "Python 3 (ipykernel)",
   "language": "python",
   "name": "python3"
  },
  "language_info": {
   "codemirror_mode": {
    "name": "ipython",
    "version": 3
   },
   "file_extension": ".py",
   "mimetype": "text/x-python",
   "name": "python",
   "nbconvert_exporter": "python",
   "pygments_lexer": "ipython3",
   "version": "3.9.12"
  }
 },
 "nbformat": 4,
 "nbformat_minor": 5
}
