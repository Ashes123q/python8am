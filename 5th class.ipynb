{
 "cells": [
  {
   "cell_type": "code",
   "execution_count": null,
   "id": "0dfc1d11",
   "metadata": {},
   "outputs": [],
   "source": [
    "#bill\n",
    "a = 0\n",
    "bill = str()\n",
    "n = int(input(\"enter n = \"))\n",
    "for i in range(n):\n",
    "    name =input(\"enter name : \")\n",
    "    price = int(input(\"enter price = \"))\n",
    "    quantity =int(input(\"enter quantity = \"))\n",
    "    total = price*quantity\n",
    "    a = a+total\n",
    "    bill = bill+name +\" \"+ str(price)+\" \"+str(quantity)+\" \"+str(total)+\"\\n\"\n",
    "print(bill)\n",
    "print(\"All total:\",a)\n"
   ]
  },
  {
   "cell_type": "code",
   "execution_count": null,
   "id": "e4bd3b18",
   "metadata": {},
   "outputs": [],
   "source": [
    "result = str()\n",
    "n = int(input(\"enter n = \"))\n",
    "for i in range(n):\n",
    "    name = input(\"enter name: \")\n",
    "    physics = int(input(\"enter physics marks = \"))\n",
    "    chemistry = int(input(\"enter chemistry marks = \"))\n",
    "    maths = int(input(\"enter maths marks = \"))\n",
    "    english = int(input(\"enter english marks = \"))\n",
    "    nepali = int(input(\"enter nepali marks = \"))\n",
    "    total = physics+chemistry+maths+english+nepali\n",
    "    per = total/5\n",
    "    if per>=80:\n",
    "        grade = \"A\"\n",
    "    elif per>=60:\n",
    "        grade = \"B\"\n",
    "    elif per>=45:\n",
    "        grade = \"C\"\n",
    "    else:\n",
    "        grade = \"F\"\n",
    "    result = result + name +\"\\t\" + str(physics) +\"\\t\"+ str(chemistry) + \"\\t\" + str(maths) + \"\\t\" + str(english) + \"\\t\" + str(nepali) + \"\\t\" + str(total) + \"\\t\" + str(per) + \"\\t\" + str(grade) +\"\\n\"\n",
    "    \n",
    "print(\"name\\tphysics\\tchemistry\\tmath\\tenglish\\tnepali\\ttotal\\tper\\tgrade\")\n",
    "print(result)"
   ]
  },
  {
   "cell_type": "code",
   "execution_count": null,
   "id": "b39cfb3a",
   "metadata": {},
   "outputs": [],
   "source": [
    "# control statement\n",
    "#break\n",
    "# continue"
   ]
  },
  {
   "cell_type": "code",
   "execution_count": 4,
   "id": "3f54ca28",
   "metadata": {},
   "outputs": [
    {
     "name": "stdout",
     "output_type": "stream",
     "text": [
      "0 1 2 3 4 6 7 8 9 "
     ]
    }
   ],
   "source": [
    "for i in range(10):           #end=horizontal print else normaLly vertical print #Continue = skips step,\n",
    "    if i == 5:\n",
    "        continue\n",
    "    else:\n",
    "        print(i,end = \" \")"
   ]
  },
  {
   "cell_type": "code",
   "execution_count": 5,
   "id": "ef73e239",
   "metadata": {},
   "outputs": [
    {
     "name": "stdout",
     "output_type": "stream",
     "text": [
      "2\n",
      "4\n",
      "6\n",
      "8\n",
      "10\n"
     ]
    }
   ],
   "source": [
    "for i in range(1,11):          # continue : returns value back to the loop\n",
    "    if i%2!=0:\n",
    "        continue\n",
    "    print(i)"
   ]
  },
  {
   "cell_type": "code",
   "execution_count": 9,
   "id": "f002bf2f",
   "metadata": {},
   "outputs": [
    {
     "name": "stdout",
     "output_type": "stream",
     "text": [
      "H Hello World\n",
      "e Hello World\n",
      "l Hello World\n",
      "l Hello World\n",
      "o Hello World\n"
     ]
    }
   ],
   "source": [
    "a = \"Hello\"          #string itself is a sequence of characters\n",
    "for i in a:\n",
    "    print(i,\"Hello World\")"
   ]
  },
  {
   "cell_type": "code",
   "execution_count": 13,
   "id": "0b467ba0",
   "metadata": {},
   "outputs": [
    {
     "name": "stdout",
     "output_type": "stream",
     "text": [
      "Hello World"
     ]
    }
   ],
   "source": [
    "a  = \"Hello World,I am python,ruler of the forest\"\n",
    "for i in a:\n",
    "    if i == \",\":\n",
    "        break\n",
    "    else:\n",
    "        print(i,end=\"\")"
   ]
  },
  {
   "cell_type": "code",
   "execution_count": 15,
   "id": "d754d8aa",
   "metadata": {},
   "outputs": [
    {
     "name": "stdout",
     "output_type": "stream",
     "text": [
      "Hello WorldI am python ruler of the forest"
     ]
    }
   ],
   "source": [
    "a  = \"Hello World,I am python, ruler of the forest\"\n",
    "for i in a:\n",
    "    if i == \",\":\n",
    "        continue\n",
    "    else:\n",
    "        print(i,end=\"\")"
   ]
  },
  {
   "cell_type": "code",
   "execution_count": null,
   "id": "959db8c2",
   "metadata": {},
   "outputs": [],
   "source": [
    "#Write a program to detect the given number is prime or composite\n",
    "#prime = 2,3,5,7,11,13\n",
    "# composite=2,6,8,9,10,12"
   ]
  }
 ],
 "metadata": {
  "kernelspec": {
   "display_name": "Python 3 (ipykernel)",
   "language": "python",
   "name": "python3"
  },
  "language_info": {
   "codemirror_mode": {
    "name": "ipython",
    "version": 3
   },
   "file_extension": ".py",
   "mimetype": "text/x-python",
   "name": "python",
   "nbconvert_exporter": "python",
   "pygments_lexer": "ipython3",
   "version": "3.9.12"
  }
 },
 "nbformat": 4,
 "nbformat_minor": 5
}
