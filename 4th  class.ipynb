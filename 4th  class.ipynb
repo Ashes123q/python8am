{
 "cells": [
  {
   "cell_type": "code",
   "execution_count": null,
   "id": "01b660af",
   "metadata": {},
   "outputs": [],
   "source": [
    "# For Loop\n",
    "range(5) (0,1,2,3,4) #for(i = 0; i<5; i++)\n",
    "range(1,5) (1,2,3,4) #for (i = 1; i<5; i++)\n",
    "range(0,5,2) (0,2,4) #for (i = 1, i<5; i++)"
   ]
  },
  {
   "cell_type": "code",
   "execution_count": 1,
   "id": "c2432f1c",
   "metadata": {},
   "outputs": [
    {
     "name": "stdout",
     "output_type": "stream",
     "text": [
      "0\n",
      "1\n",
      "2\n",
      "3\n",
      "4\n"
     ]
    }
   ],
   "source": [
    "for i in range(5):    #in operator updates value of i,for is a keyword\n",
    "    print(i)\n"
   ]
  },
  {
   "cell_type": "code",
   "execution_count": 2,
   "id": "6f06f968",
   "metadata": {},
   "outputs": [
    {
     "name": "stdout",
     "output_type": "stream",
     "text": [
      "0 hello world\n",
      "1 hello world\n",
      "2 hello world\n",
      "3 hello world\n",
      "4 hello world\n"
     ]
    }
   ],
   "source": [
    "for i in range(5):\n",
    "    print(i,\"hello world\")"
   ]
  },
  {
   "cell_type": "code",
   "execution_count": 3,
   "id": "52a7f9dd",
   "metadata": {},
   "outputs": [
    {
     "name": "stdout",
     "output_type": "stream",
     "text": [
      "1 Hello world\n",
      "2 Hello world\n",
      "3 Hello world\n",
      "4 Hello world\n"
     ]
    }
   ],
   "source": [
    "for i in range(1,5):\n",
    "    print(i,\"Hello world\")"
   ]
  },
  {
   "cell_type": "code",
   "execution_count": 4,
   "id": "e4508f2e",
   "metadata": {},
   "outputs": [
    {
     "name": "stdout",
     "output_type": "stream",
     "text": [
      "1 Hello world\n",
      "2 Hello world\n",
      "3 Hello world\n",
      "4 Hello world\n"
     ]
    }
   ],
   "source": [
    "for i in range(1,5,1):\n",
    "    print(i,\"Hello world\")"
   ]
  },
  {
   "cell_type": "code",
   "execution_count": 5,
   "id": "00d29666",
   "metadata": {},
   "outputs": [
    {
     "name": "stdout",
     "output_type": "stream",
     "text": [
      "1 Hello world\n",
      "3 Hello world\n"
     ]
    }
   ],
   "source": [
    "for i in range(1,5,2):\n",
    "    print(i,\"Hello world\")"
   ]
  },
  {
   "cell_type": "code",
   "execution_count": 6,
   "id": "a329c2db",
   "metadata": {},
   "outputs": [
    {
     "name": "stdout",
     "output_type": "stream",
     "text": [
      "0 Hello world\n",
      "2 Hello world\n",
      "4 Hello world\n"
     ]
    }
   ],
   "source": [
    "for i in range(0,5,2):\n",
    "    print(i,\"Hello world\")"
   ]
  },
  {
   "cell_type": "code",
   "execution_count": 10,
   "id": "be50b8cf",
   "metadata": {},
   "outputs": [
    {
     "name": "stdout",
     "output_type": "stream",
     "text": [
      "5 Hello world\n",
      "4 Hello world\n",
      "3 Hello world\n",
      "2 Hello world\n"
     ]
    }
   ],
   "source": [
    "for i in range(5,1,-1):         #use of negative\n",
    "    print(i,\"Hello world\")"
   ]
  },
  {
   "cell_type": "code",
   "execution_count": 12,
   "id": "bed43e34",
   "metadata": {},
   "outputs": [
    {
     "name": "stdout",
     "output_type": "stream",
     "text": [
      "enter n = 5\n",
      "5 * 1 = 5\n",
      "5 * 2 = 10\n",
      "5 * 3 = 15\n",
      "5 * 4 = 20\n",
      "5 * 5 = 25\n",
      "5 * 6 = 30\n",
      "5 * 7 = 35\n",
      "5 * 8 = 40\n",
      "5 * 9 = 45\n",
      "5 * 10 = 50\n"
     ]
    }
   ],
   "source": [
    "n = int(input(\"enter n = \"))\n",
    "for i in range(1,11):\n",
    "    print(n,\"*\",i,\"=\",n*i)"
   ]
  },
  {
   "cell_type": "code",
   "execution_count": 15,
   "id": "710d6a1d",
   "metadata": {},
   "outputs": [
    {
     "name": "stdout",
     "output_type": "stream",
     "text": [
      "enter n = 3\n",
      "enter x = 23\n",
      "enter x = 34\n",
      "enter x = 45\n",
      "102\n"
     ]
    }
   ],
   "source": [
    "s = 0                                  \n",
    "n = int(input(\"enter n = \"))\n",
    "for i in range(n):\n",
    "    x = int(input(\"enter x = \"))\n",
    "    s = s+x                         #value of s is updated each time in the loop\n",
    "    print(s)"
   ]
  },
  {
   "cell_type": "code",
   "execution_count": 2,
   "id": "ace54398",
   "metadata": {},
   "outputs": [
    {
     "name": "stdout",
     "output_type": "stream",
     "text": [
      "enter n = 2\n",
      "enter x = pony\n",
      "enter x = cat\n",
      "ponycat\n"
     ]
    }
   ],
   "source": [
    "s = \"\"                            \n",
    "n = int(input(\"enter n = \"))\n",
    "for i in range(n):\n",
    "    x = input(\"enter x = \")\n",
    "    s = s+x                         #value of s is updated each time in the loop\n",
    "print(s)"
   ]
  },
  {
   "cell_type": "code",
   "execution_count": 3,
   "id": "aea7104f",
   "metadata": {},
   "outputs": [
    {
     "name": "stdout",
     "output_type": "stream",
     "text": [
      "enter n = 2\n",
      "enter x = ash\n",
      " ash\n",
      "enter x = asdf\n",
      " ash asdf\n"
     ]
    }
   ],
   "source": [
    "s = str()                         #two different methods of writing a empty string                       \n",
    "n = int(input(\"enter n = \"))\n",
    "for i in range(n):\n",
    "    x = input(\"enter x = \")\n",
    "    s = s+\" \"+x                       #value of s is updated each time in the loop\n",
    "    print(s)"
   ]
  },
  {
   "cell_type": "code",
   "execution_count": null,
   "id": "d459cd55",
   "metadata": {},
   "outputs": [],
   "source": []
  },
  {
   "cell_type": "code",
   "execution_count": 5,
   "id": "1578f3cb",
   "metadata": {
    "collapsed": true
   },
   "outputs": [
    {
     "name": "stdout",
     "output_type": "stream",
     "text": [
      "enter n = 2\n",
      "enter name = ajay\n",
      "enter phone number = 908978978\n",
      "ajay 908978978\n",
      "\n",
      "enter name = arun\n",
      "enter phone number = 787867\n",
      "ajay 908978978\n",
      "arun 787867\n",
      "\n"
     ]
    }
   ],
   "source": [
    "s= \"\"\n",
    "n = int(input(\"enter n = \"))\n",
    "for i in range(n):\n",
    "    name=input(\"enter name = \")\n",
    "    phone = int(input(\"enter phone number = \"))\n",
    "    \n",
    "    s = s+name+\" \"+str(phone)+\"\\n\"\n",
    "\n",
    "    print(s)"
   ]
  },
  {
   "cell_type": "code",
   "execution_count": 6,
   "id": "63f6d2a9",
   "metadata": {},
   "outputs": [
    {
     "data": {
      "text/plain": [
       "str"
      ]
     },
     "execution_count": 6,
     "metadata": {},
     "output_type": "execute_result"
    }
   ],
   "source": [
    "type(s)"
   ]
  },
  {
   "cell_type": "code",
   "execution_count": null,
   "id": "6d4cf084",
   "metadata": {},
   "outputs": [],
   "source": [
    "# 5! = 5*4*3*2*1"
   ]
  },
  {
   "cell_type": "code",
   "execution_count": 8,
   "id": "a12ce947",
   "metadata": {},
   "outputs": [
    {
     "name": "stdout",
     "output_type": "stream",
     "text": [
      "enter n = 5\n",
      "1\n",
      "2\n",
      "6\n",
      "24\n",
      "120\n"
     ]
    }
   ],
   "source": [
    "fac=1\n",
    "n = int(input(\"enter n = \"))\n",
    "for i in range(1,n+1):\n",
    "    fac=fac*i\n",
    "    print(fac)"
   ]
  },
  {
   "cell_type": "code",
   "execution_count": null,
   "id": "d0de256d",
   "metadata": {},
   "outputs": [],
   "source": []
  }
 ],
 "metadata": {
  "kernelspec": {
   "display_name": "Python 3 (ipykernel)",
   "language": "python",
   "name": "python3"
  },
  "language_info": {
   "codemirror_mode": {
    "name": "ipython",
    "version": 3
   },
   "file_extension": ".py",
   "mimetype": "text/x-python",
   "name": "python",
   "nbconvert_exporter": "python",
   "pygments_lexer": "ipython3",
   "version": "3.9.12"
  }
 },
 "nbformat": 4,
 "nbformat_minor": 5
}
