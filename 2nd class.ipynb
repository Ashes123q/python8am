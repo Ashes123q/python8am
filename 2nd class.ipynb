{
 "cells": [
  {
   "cell_type": "code",
   "execution_count": 1,
   "id": "dc96bdb5",
   "metadata": {},
   "outputs": [
    {
     "data": {
      "text/plain": [
       "False"
      ]
     },
     "execution_count": 1,
     "metadata": {},
     "output_type": "execute_result"
    }
   ],
   "source": [
    "a = 10\n",
    "b = 20\n",
    "a>b"
   ]
  },
  {
   "cell_type": "code",
   "execution_count": null,
   "id": "8c214a12",
   "metadata": {},
   "outputs": [],
   "source": []
  },
  {
   "cell_type": "code",
   "execution_count": 2,
   "id": "a39487e7",
   "metadata": {},
   "outputs": [
    {
     "data": {
      "text/plain": [
       "True"
      ]
     },
     "execution_count": 2,
     "metadata": {},
     "output_type": "execute_result"
    }
   ],
   "source": [
    "a=10\n",
    "b = 20\n",
    "a<b"
   ]
  },
  {
   "cell_type": "code",
   "execution_count": 3,
   "id": "db9ca69c",
   "metadata": {},
   "outputs": [],
   "source": [
    "# < > <= >= == !="
   ]
  },
  {
   "cell_type": "code",
   "execution_count": 4,
   "id": "f0ea1879",
   "metadata": {},
   "outputs": [
    {
     "name": "stdout",
     "output_type": "stream",
     "text": [
      "20 is greater\n"
     ]
    }
   ],
   "source": [
    "a=10\n",
    "b = 20\n",
    "if a>b:\n",
    "    print(a,\"is greater\")\n",
    "elif b>a:\n",
    "    print(b,\"is greater\")\n",
    "else:\n",
    "    print(\"They are equal\")"
   ]
  },
  {
   "cell_type": "code",
   "execution_count": 5,
   "id": "178c31ad",
   "metadata": {},
   "outputs": [
    {
     "name": "stdout",
     "output_type": "stream",
     "text": [
      "enter any number=20\n",
      "20 is even\n"
     ]
    }
   ],
   "source": [
    "# For even or odd\n",
    "a = int(input(\"enter any number=\"))\n",
    "if a%2==0:\n",
    "    print(a,\"is even\")\n",
    "else:\n",
    "    print(a,\"is odd\")"
   ]
  },
  {
   "cell_type": "code",
   "execution_count": 6,
   "id": "a49492c4",
   "metadata": {},
   "outputs": [
    {
     "data": {
      "text/plain": [
       "True"
      ]
     },
     "execution_count": 6,
     "metadata": {},
     "output_type": "execute_result"
    }
   ],
   "source": [
    "a%2==0"
   ]
  },
  {
   "cell_type": "code",
   "execution_count": 14,
   "id": "bd5149e3",
   "metadata": {},
   "outputs": [
    {
     "name": "stdout",
     "output_type": "stream",
     "text": [
      "enter a=2\n",
      "enter b=0\n",
      "Choose any from + - * //\n",
      "value of b cannot be zero\n"
     ]
    }
   ],
   "source": [
    "a = int(input(\"enter a=\"))\n",
    "b = int(input(\"enter b=\"))\n",
    "o = input(\"Choose any from + - * /\")\n",
    "if o == \"+\":\n",
    "    print(a+b)\n",
    "elif o == \"-\":\n",
    "    print(a-b)\n",
    "elif o == \"*\":\n",
    "    print(a*b)\n",
    "elif o == \"/\" and b!=0:\n",
    "    print(a/b)\n",
    "elif o == '/' and b ==0:\n",
    "    print(\"value of b cannot be zero\")\n",
    "else:\n",
    "    print(\"your chosen sign is invalid\")"
   ]
  },
  {
   "cell_type": "code",
   "execution_count": 10,
   "id": "318c076f",
   "metadata": {},
   "outputs": [
    {
     "data": {
      "text/plain": [
       "True"
      ]
     },
     "execution_count": 10,
     "metadata": {},
     "output_type": "execute_result"
    }
   ],
   "source": [
    "False or True\n"
   ]
  },
  {
   "cell_type": "code",
   "execution_count": 11,
   "id": "1a21ea4e",
   "metadata": {},
   "outputs": [
    {
     "data": {
      "text/plain": [
       "False"
      ]
     },
     "execution_count": 11,
     "metadata": {},
     "output_type": "execute_result"
    }
   ],
   "source": [
    "False and True"
   ]
  },
  {
   "cell_type": "code",
   "execution_count": 1,
   "id": "d866669f",
   "metadata": {},
   "outputs": [
    {
     "name": "stdout",
     "output_type": "stream",
     "text": [
      "a is zero\n"
     ]
    }
   ],
   "source": [
    "a = 0 \n",
    "if a>0:\n",
    "    print(\"a is +ve\")\n",
    "elif a<0:\n",
    "    print(\"a is negative\")"
   ]
  },
  {
   "cell_type": "code",
   "execution_count": 4,
   "id": "50af3127",
   "metadata": {},
   "outputs": [
    {
     "name": "stdout",
     "output_type": "stream",
     "text": [
      "enter a = 0\n",
      "0 is even\n"
     ]
    }
   ],
   "source": [
    "a = int(input(\"enter a = \"))\n",
    "if a%2==0:\n",
    "    print(a,\"is even\")\n",
    "else:\n",
    "    print(a,\"is odd\")"
   ]
  },
  {
   "cell_type": "code",
   "execution_count": 6,
   "id": "bded8f5d",
   "metadata": {},
   "outputs": [
    {
     "name": "stdout",
     "output_type": "stream",
     "text": [
      "enter a =10\n",
      "enter b = 10\n",
      "10 and 10 are equal\n"
     ]
    }
   ],
   "source": [
    "a = int(input(\"enter a =\"))\n",
    "b = int(input(\"enter b = \"))\n",
    "if a>b:\n",
    "    print(a,\"is greater\")\n",
    "elif b>a:\n",
    "    print(b,\"is greater\")\n",
    "else:\n",
    "    print(a,\"and\",b,\"are equal\")"
   ]
  },
  {
   "cell_type": "code",
   "execution_count": 16,
   "id": "cb606938",
   "metadata": {},
   "outputs": [
    {
     "name": "stdout",
     "output_type": "stream",
     "text": [
      "enter a = 12\n",
      "enter b = 0\n",
      "choose from +,-,/,*,//,**,%**\n",
      "1\n"
     ]
    }
   ],
   "source": [
    "a = int(input(\"enter a = \"))\n",
    "b = int(input(\"enter b = \"))\n",
    "o = input(\"choose from +,-,/,*,//,**,%\")\n",
    "if o ==\"+\":\n",
    "    print(a+b)\n",
    "elif o == \"-\":\n",
    "    print(a-b)\n",
    "elif o == \"*\":\n",
    "    print(a*b)\n",
    "elif o == \"/\" and b!= 0:\n",
    "    print(a/b)\n",
    "elif o ==\"/\" and b==0:\n",
    "    print(\"value of b cannot be 0\")\n",
    "elif o == \"//\" and b!=0:\n",
    "    print(a//b)\n",
    "elif o ==\"//\" and b==0:\n",
    "    print(\"value of b cannot be 0\")\n",
    "elif o == \"**\":\n",
    "    print(a**b)\n",
    "elif o == \"%\":\n",
    "    print(a%b)\n",
    "else:\n",
    "    print(\"Invalid Operator\")\n"
   ]
  },
  {
   "cell_type": "code",
   "execution_count": 12,
   "id": "b4ff1be6",
   "metadata": {},
   "outputs": [
    {
     "name": "stdout",
     "output_type": "stream",
     "text": [
      "enter physics marks = 40\n",
      "enter chemistry marks = 56\n",
      "enter maths marks = 56\n",
      "enter english marks = 67\n",
      "enter nepali marks = 89\n",
      "Total marks =  308.0\n",
      "Percentage= 61.6\n",
      "Grade =  B\n"
     ]
    }
   ],
   "source": [
    "phy = float(input(\"enter physics marks = \"))\n",
    "chem = float(input(\"enter chemistry marks = \"))\n",
    "maths = float(input(\"enter maths marks = \"))\n",
    "english = float(input(\"enter english marks = \"))\n",
    "nepali = float(input(\"enter nepali marks = \"))\n",
    "total=phy+chem+maths+english+nepali\n",
    "per=total/5\n",
    "if per>80 or per == 80:\n",
    "    grade = \"A\"         #Once a statement is true in if-else statement,other statements below it are not considered.Chooses the first statement which is true. \n",
    "elif per>60 or per == 60:\n",
    "    grade = \"B\"\n",
    "elif per>45 or per == 45:\n",
    "    grade = \"C\"\n",
    "else:\n",
    "    grade = \"F\"\n",
    "\n",
    "print(\"Total marks = \",total)\n",
    "print(\"Percentage=\",per)\n",
    "print(\"Grade = \",grade)"
   ]
  },
  {
   "cell_type": "code",
   "execution_count": 13,
   "id": "abaf2b37",
   "metadata": {},
   "outputs": [
    {
     "data": {
      "text/plain": [
       "True"
      ]
     },
     "execution_count": 13,
     "metadata": {},
     "output_type": "execute_result"
    }
   ],
   "source": [
    "True and True"
   ]
  },
  {
   "cell_type": "code",
   "execution_count": 18,
   "id": "05905fd9",
   "metadata": {},
   "outputs": [
    {
     "data": {
      "text/plain": [
       "True"
      ]
     },
     "execution_count": 18,
     "metadata": {},
     "output_type": "execute_result"
    }
   ],
   "source": [
    "True or False"
   ]
  },
  {
   "cell_type": "code",
   "execution_count": null,
   "id": "dbb6a766",
   "metadata": {},
   "outputs": [],
   "source": [
    "# nested if/else\n",
    "# if <condition>:\n",
    "#     if<condition>:\n",
    "#         <operations>\n",
    "#     else:\n",
    "#         <operations>"
   ]
  }
 ],
 "metadata": {
  "kernelspec": {
   "display_name": "Python 3 (ipykernel)",
   "language": "python",
   "name": "python3"
  },
  "language_info": {
   "codemirror_mode": {
    "name": "ipython",
    "version": 3
   },
   "file_extension": ".py",
   "mimetype": "text/x-python",
   "name": "python",
   "nbconvert_exporter": "python",
   "pygments_lexer": "ipython3",
   "version": "3.9.12"
  }
 },
 "nbformat": 4,
 "nbformat_minor": 5
}
