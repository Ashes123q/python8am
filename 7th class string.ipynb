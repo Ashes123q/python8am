{
 "cells": [
  {
   "cell_type": "code",
   "execution_count": null,
   "id": "28456bd7",
   "metadata": {},
   "outputs": [],
   "source": [
    "#string"
   ]
  },
  {
   "cell_type": "code",
   "execution_count": 1,
   "id": "0ab9a3e0",
   "metadata": {},
   "outputs": [
    {
     "name": "stdout",
     "output_type": "stream",
     "text": [
      "<class 'str'>\n",
      "<class 'str'>\n",
      "<class 'str'>\n"
     ]
    }
   ],
   "source": [
    "a = \"Hello World\"\n",
    "b = 'Hello World'\n",
    "c = '''Hello World'''\n",
    "print(type(a))\n",
    "print(type(b))\n",
    "print(type(c))"
   ]
  },
  {
   "cell_type": "code",
   "execution_count": 3,
   "id": "0007a3ea",
   "metadata": {},
   "outputs": [
    {
     "name": "stdout",
     "output_type": "stream",
     "text": [
      "Hello World\n",
      "Hello World\n",
      "\n"
     ]
    }
   ],
   "source": [
    "# + * \n",
    "a = \"Hello World\\n\"\n",
    "print(a*2)"
   ]
  },
  {
   "cell_type": "code",
   "execution_count": 4,
   "id": "3f0808a5",
   "metadata": {},
   "outputs": [
    {
     "name": "stdout",
     "output_type": "stream",
     "text": [
      "Hello World\n"
     ]
    }
   ],
   "source": [
    "a = \"Hello \"\n",
    "b = \"World\"\n",
    "c = a+b\n",
    "print(c)"
   ]
  },
  {
   "cell_type": "code",
   "execution_count": 5,
   "id": "fbdd1713",
   "metadata": {},
   "outputs": [
    {
     "name": "stdout",
     "output_type": "stream",
     "text": [
      "<class 'str'>\n",
      "10\n",
      "<class 'int'>\n"
     ]
    }
   ],
   "source": [
    "a = \"10\"\n",
    "print(type(a))\n",
    "b = int(a)\n",
    "print(b)\n",
    "print(type(b))"
   ]
  },
  {
   "cell_type": "code",
   "execution_count": 6,
   "id": "0d88b9dd",
   "metadata": {},
   "outputs": [
    {
     "name": "stdout",
     "output_type": "stream",
     "text": [
      "H\n"
     ]
    }
   ],
   "source": [
    "a = \"Hello World\"\n",
    "print(a[0])"
   ]
  },
  {
   "cell_type": "code",
   "execution_count": 7,
   "id": "95c450d4",
   "metadata": {},
   "outputs": [
    {
     "name": "stdout",
     "output_type": "stream",
     "text": [
      "Hello\n"
     ]
    }
   ],
   "source": [
    "a = \"Hello World\"\n",
    "print(a[0:5])           #string slice:from 0 to 5-1=4"
   ]
  },
  {
   "cell_type": "code",
   "execution_count": 8,
   "id": "fb0e301e",
   "metadata": {},
   "outputs": [
    {
     "name": "stdout",
     "output_type": "stream",
     "text": [
      "Hello\n"
     ]
    }
   ],
   "source": [
    "a = \"Hello World\"\n",
    "print(a[:5])           #string slice:from start to 5-1=4"
   ]
  },
  {
   "cell_type": "code",
   "execution_count": 9,
   "id": "17c09dd8",
   "metadata": {},
   "outputs": [
    {
     "name": "stdout",
     "output_type": "stream",
     "text": [
      "HloWr\n"
     ]
    }
   ],
   "source": [
    "a = \"Hello World\"\n",
    "print(a[0:10:2])         #string slice:from 0 with increament 2 till 10"
   ]
  },
  {
   "cell_type": "code",
   "execution_count": 11,
   "id": "67dd36e0",
   "metadata": {},
   "outputs": [
    {
     "name": "stdout",
     "output_type": "stream",
     "text": [
      "dlroW olle\n"
     ]
    }
   ],
   "source": [
    "a = \"Hello World\"\n",
    "b = a[10:0:-1]\n",
    "print(b)                   #string slice:from 0 to 5-1=4"
   ]
  },
  {
   "cell_type": "code",
   "execution_count": 12,
   "id": "30e19b28",
   "metadata": {},
   "outputs": [
    {
     "name": "stdout",
     "output_type": "stream",
     "text": [
      "dlroW olleH\n"
     ]
    }
   ],
   "source": [
    "a = \"Hello World\"\n",
    "b = a[::-1]\n",
    "print(b)                   #string slice:from 0 to 5-1=4"
   ]
  },
  {
   "cell_type": "code",
   "execution_count": 14,
   "id": "33453652",
   "metadata": {},
   "outputs": [
    {
     "data": {
      "text/plain": [
       "'dlroW olleH'"
      ]
     },
     "execution_count": 14,
     "metadata": {},
     "output_type": "execute_result"
    }
   ],
   "source": [
    "a = \"Hello World\"\n",
    "b = a[10::-1]\n",
    "b                   #string slice:from 0 to 5-1=4"
   ]
  },
  {
   "cell_type": "code",
   "execution_count": 16,
   "id": "697917a0",
   "metadata": {},
   "outputs": [
    {
     "data": {
      "text/plain": [
       "'Hello my name is Ram, I am 34.'"
      ]
     },
     "execution_count": 16,
     "metadata": {},
     "output_type": "execute_result"
    }
   ],
   "source": [
    "#String Formatting\n",
    "name = \"Ram\"\n",
    "age = 34\n",
    "data = f\"Hello my name is {name}, I am {age}.\"\n",
    "data"
   ]
  },
  {
   "cell_type": "code",
   "execution_count": 18,
   "id": "d49095d3",
   "metadata": {},
   "outputs": [
    {
     "name": "stdout",
     "output_type": "stream",
     "text": [
      "enter name = ash\n",
      "Enter age = 34\n",
      "enter address = qq\n"
     ]
    },
    {
     "data": {
      "text/plain": [
       "'Hello I am ash ,  I am from qq , I am 34.'"
      ]
     },
     "execution_count": 18,
     "metadata": {},
     "output_type": "execute_result"
    }
   ],
   "source": [
    "name = input(\"enter name = \")\n",
    "age = int(input(\"Enter age = \"))\n",
    "add = input(\"enter address = \")\n",
    "data = f\"Hello I am {name} ,  I am from {add} , I am {age}.\"   # f is formatting and {}includes variables\n",
    "data"
   ]
  },
  {
   "cell_type": "code",
   "execution_count": 6,
   "id": "8cbd554e",
   "metadata": {},
   "outputs": [
    {
     "name": "stdout",
     "output_type": "stream",
     "text": [
      "Enter n = 2\n",
      "enter name  = orange\n",
      "enter price  = 23\n",
      "enter quantity = 4\n",
      "enter name  = ball\n",
      "enter price  = 67\n",
      "enter quantity = 3\n",
      "orange 23 4 92\n",
      "ball 67 3 201\n",
      "\n",
      "grand total = 293\n"
     ]
    }
   ],
   "source": [
    "s = \"\"\n",
    "t = 0\n",
    "n = int(input(\"Enter n = \"))\n",
    "for i in range(n):\n",
    "    name  = input(\"enter name  = \")\n",
    "    price  = int(input(\"enter price  = \"))\n",
    "    quantity = int(input(\"enter quantity = \"))\n",
    "    total = price*quantity\n",
    "    bill = f\"{name} {price} {quantity} {total}\\n\"\n",
    "    t = t+total\n",
    "    s = s+bill\n",
    "\n",
    "print(s)\n",
    "print(\"grand total =\",t)"
   ]
  },
  {
   "cell_type": "code",
   "execution_count": 7,
   "id": "12b037f9",
   "metadata": {},
   "outputs": [
    {
     "data": {
      "text/plain": [
       "'orange 23 4 92\\nball 67 3 201\\n'"
      ]
     },
     "execution_count": 7,
     "metadata": {},
     "output_type": "execute_result"
    }
   ],
   "source": [
    "s"
   ]
  },
  {
   "cell_type": "code",
   "execution_count": 8,
   "id": "16c2167e",
   "metadata": {},
   "outputs": [
    {
     "name": "stdout",
     "output_type": "stream",
     "text": [
      "Ram Shyam Hari Sita Gita Ramesh"
     ]
    }
   ],
   "source": [
    "s = \"Ram Shyam Hari Sita Gita Ramesh\"\n",
    "for i in s:\n",
    "    print(i,end = \"\")"
   ]
  },
  {
   "cell_type": "code",
   "execution_count": 9,
   "id": "67e89ec4",
   "metadata": {},
   "outputs": [
    {
     "data": {
      "text/plain": [
       "True"
      ]
     },
     "execution_count": 9,
     "metadata": {},
     "output_type": "execute_result"
    }
   ],
   "source": [
    "s = \"Ram Shyam Hari Sita Gita Ramesh\"\n",
    "\"Ram\" in s\n",
    "    "
   ]
  },
  {
   "cell_type": "code",
   "execution_count": 15,
   "id": "4f515723",
   "metadata": {},
   "outputs": [
    {
     "name": "stdout",
     "output_type": "stream",
     "text": [
      "enter s = Ram \n",
      "Yes\n",
      "1\n"
     ]
    }
   ],
   "source": [
    "s = \"Ram Shyam Hari Sita Gita Ramesh\"\n",
    "search = input(\"enter s = \")\n",
    "if search in s:\n",
    "    print(\"Yes\")\n",
    "    print(s.count(search))\n",
    "else:\n",
    "    print(\"No\")"
   ]
  },
  {
   "cell_type": "code",
   "execution_count": 20,
   "id": "432f7fc0",
   "metadata": {},
   "outputs": [
    {
     "name": "stdout",
     "output_type": "stream",
     "text": [
      "RAM SHYAM HARI SITA GITA RAMESH\n",
      "Ram Shyam Hari Sita Gita Ramesh\n"
     ]
    }
   ],
   "source": [
    "s = \"Ram Shyam Hari Sita Gita Ramesh\"\n",
    "print(s.upper())\n",
    "print(s)"
   ]
  },
  {
   "cell_type": "code",
   "execution_count": 19,
   "id": "abd3ab49",
   "metadata": {},
   "outputs": [
    {
     "name": "stdout",
     "output_type": "stream",
     "text": [
      "Ram Shyam Hari Sita Gita Ramesh\n"
     ]
    }
   ],
   "source": [
    "s = \"Ram Shyam Hari Sita Gita Ramesh\"             #string is immutable,that is it doesn't change(original value)\n",
    "print(s.lower())\n",
    "print(s)"
   ]
  },
  {
   "cell_type": "code",
   "execution_count": 22,
   "id": "f6195887",
   "metadata": {},
   "outputs": [
    {
     "name": "stdout",
     "output_type": "stream",
     "text": [
      "RAM SHYAM HARI SITA GITA RAMESH\n"
     ]
    }
   ],
   "source": [
    "s = \"Ram Shyam Hari Sita Gita Ramesh\"\n",
    "s = s.upper()\n",
    "print(s)"
   ]
  },
  {
   "cell_type": "code",
   "execution_count": 23,
   "id": "2ee0aece",
   "metadata": {},
   "outputs": [
    {
     "name": "stdout",
     "output_type": "stream",
     "text": [
      "ram shyam hari sita gita ramesh\n"
     ]
    }
   ],
   "source": [
    "s = \"Ram Shyam Hari Sita Gita Ramesh\"\n",
    "s = s.lower()\n",
    "print(s)"
   ]
  },
  {
   "cell_type": "code",
   "execution_count": 24,
   "id": "11706499",
   "metadata": {},
   "outputs": [
    {
     "name": "stdout",
     "output_type": "stream",
     "text": [
      "enter s = RAM\n",
      "Yes\n",
      "2\n"
     ]
    }
   ],
   "source": [
    "s = \"Ram Shyam Hari Sita Gita Ramesh\".lower()\n",
    "search = input(\"enter s = \").lower()\n",
    "if search in s:\n",
    "    print(\"Yes\")\n",
    "    print(s.count(search))\n",
    "else:\n",
    "    print(\"No\")"
   ]
  },
  {
   "cell_type": "code",
   "execution_count": 28,
   "id": "bc2ced62",
   "metadata": {},
   "outputs": [
    {
     "data": {
      "text/plain": [
       "'Ram Shyam hari Sita Gita Ramesh'"
      ]
     },
     "execution_count": 28,
     "metadata": {},
     "output_type": "execute_result"
    }
   ],
   "source": [
    "# replace()\n",
    "s = \"Ram Shyam Hari Sita Gita Ramesh\"\n",
    "s = s.replace('Hari','hari')\n",
    "s"
   ]
  },
  {
   "cell_type": "code",
   "execution_count": 30,
   "id": "c3a98299",
   "metadata": {},
   "outputs": [
    {
     "data": {
      "text/plain": [
       "'Ram Shyam  Sita Gita Ramesh'"
      ]
     },
     "execution_count": 30,
     "metadata": {},
     "output_type": "execute_result"
    }
   ],
   "source": [
    "s = \"Ram Shyam Hari Sita Gita Ramesh\"\n",
    "s = s.replace('Hari','')\n",
    "s"
   ]
  },
  {
   "cell_type": "code",
   "execution_count": 31,
   "id": "50f50901",
   "metadata": {},
   "outputs": [
    {
     "data": {
      "text/plain": [
       "['Ram', 'Shyam', 'Hari', 'Sita', 'Gita', 'Ramesh']"
      ]
     },
     "execution_count": 31,
     "metadata": {},
     "output_type": "execute_result"
    }
   ],
   "source": [
    "s = \"Ram Shyam Hari Sita Gita Ramesh\"\n",
    "s.split()                #converted string to list(values seperated by blank is converted to indiviadual)"
   ]
  },
  {
   "cell_type": "code",
   "execution_count": 32,
   "id": "fd73cf80",
   "metadata": {},
   "outputs": [
    {
     "data": {
      "text/plain": [
       "'Ram Shyam Hari Sita Gita Ramesh'"
      ]
     },
     "execution_count": 32,
     "metadata": {},
     "output_type": "execute_result"
    }
   ],
   "source": [
    "a = \"ram shyam hari sita gita ramesh\"\n",
    "a.title()                                  #capitalizes every first letter of every sentence"
   ]
  },
  {
   "cell_type": "code",
   "execution_count": null,
   "id": "e1b66ab1",
   "metadata": {},
   "outputs": [],
   "source": []
  }
 ],
 "metadata": {
  "kernelspec": {
   "display_name": "Python 3 (ipykernel)",
   "language": "python",
   "name": "python3"
  },
  "language_info": {
   "codemirror_mode": {
    "name": "ipython",
    "version": 3
   },
   "file_extension": ".py",
   "mimetype": "text/x-python",
   "name": "python",
   "nbconvert_exporter": "python",
   "pygments_lexer": "ipython3",
   "version": "3.9.12"
  }
 },
 "nbformat": 4,
 "nbformat_minor": 5
}
