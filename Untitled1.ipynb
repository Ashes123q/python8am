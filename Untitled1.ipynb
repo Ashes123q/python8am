{
 "cells": [
  {
   "cell_type": "code",
   "execution_count": 1,
   "id": "4d9fd83b",
   "metadata": {},
   "outputs": [
    {
     "name": "stdout",
     "output_type": "stream",
     "text": [
      "Collecting mysql-connector\n",
      "  Downloading mysql-connector-2.2.9.tar.gz (11.9 MB)\n",
      "Building wheels for collected packages: mysql-connector\n",
      "  Building wheel for mysql-connector (setup.py): started\n",
      "  Building wheel for mysql-connector (setup.py): finished with status 'done'\n",
      "  Created wheel for mysql-connector: filename=mysql_connector-2.2.9-cp39-cp39-win_amd64.whl size=247961 sha256=7ed56d35a63a10d21cfe2dfeaa384bf0173722c9598f69dde521c5b8c2b8035f\n",
      "  Stored in directory: c:\\users\\ngiip\\appdata\\local\\pip\\cache\\wheels\\7b\\14\\39\\5aad423666e827dfe9a1fbcd111ac17171e7c9865d570780ce\n",
      "Successfully built mysql-connector\n",
      "Installing collected packages: mysql-connector\n",
      "Successfully installed mysql-connector-2.2.9\n"
     ]
    }
   ],
   "source": [
    "!pip install mysql-connector"
   ]
  },
  {
   "cell_type": "code",
   "execution_count": 8,
   "id": "75e89dd5",
   "metadata": {},
   "outputs": [],
   "source": [
    "import mysql.connector\n",
    "database = mysql.connector.connect(host =\"localhost\",user =\"root\",password =\"\")\n",
    "db = database.cursor()\n",
    "db.execute(\"CREATE DATABASE pythons\")"
   ]
  },
  {
   "cell_type": "code",
   "execution_count": 13,
   "id": "b4acf18d",
   "metadata": {},
   "outputs": [
    {
     "name": "stdout",
     "output_type": "stream",
     "text": [
      "(1, 'sam', 0)\n",
      "(2, 'sam', 0)\n",
      "(3, 'ram', 0)\n",
      "(4, 'jam', 12)\n",
      "(5, 'hari', 13)\n",
      "(6, 'jeri', 6)\n"
     ]
    }
   ],
   "source": [
    "import mysql.connector\n",
    "database = mysql.connector.connect(host =\"localhost\",user =\"root\",password =\"\",database = \"practice\")\n",
    "db = database.cursor()\n",
    "db.execute(\"Select sn,name,class from data\")\n",
    "result = db.fetchall()\n",
    "for i in result:\n",
    "    print(i)"
   ]
  },
  {
   "cell_type": "code",
   "execution_count": 15,
   "id": "c09afeec",
   "metadata": {},
   "outputs": [],
   "source": [
    "sql = '''INSERT INTO `data` (`sn`, `name`, `class`) VALUES ('8', 'jerry', '11');'''\n",
    "db.execute(sql)\n",
    "database.commit()"
   ]
  },
  {
   "cell_type": "code",
   "execution_count": 19,
   "id": "3e8fe110",
   "metadata": {},
   "outputs": [
    {
     "name": "stdout",
     "output_type": "stream",
     "text": [
      "enter physics marks = 34\n",
      "enter chemistry marks = 56\n",
      "enter maths marks = 45\n",
      "enter english marks = 45\n",
      "enter nepali marks = 45\n"
     ]
    }
   ],
   "source": [
    "physics = int(input(\"enter physics marks = \"))\n",
    "chemistry = int(input(\"enter chemistry marks = \"))\n",
    "maths = int(input(\"enter maths marks = \"))\n",
    "english = int(input(\"enter english marks = \"))\n",
    "nepali = int(input(\"enter nepali marks = \"))\n",
    "total = physics+chemistry+maths+english+nepali\n",
    "per = total/5\n",
    "if per>=80:\n",
    "    grade = \"A\"\n",
    "elif per>=60:\n",
    "    grade = \"B\"\n",
    "elif per>=45:\n",
    "    grade = \"C\"\n",
    "else:\n",
    "    grade = \"F\"\n",
    "\n",
    "sql = f'''INSERT INTO data(sn,name,class) VALUES ({physics},'rar',{chemistry});'''\n",
    "db.execute(sql)\n",
    "database.commit()"
   ]
  },
  {
   "cell_type": "code",
   "execution_count": 21,
   "id": "3230389d",
   "metadata": {},
   "outputs": [],
   "source": [
    "sql = '''DELETE FROM data where sn = 34'''\n",
    "db.execute(sql)\n",
    "database.commit()"
   ]
  },
  {
   "cell_type": "code",
   "execution_count": 22,
   "id": "ce4c8994",
   "metadata": {},
   "outputs": [],
   "source": [
    "sql = '''UPDATE data SET name = 'ginger' WHERE sn = 8 '''\n",
    "db.execute(sql)\n",
    "database.commit()"
   ]
  },
  {
   "cell_type": "code",
   "execution_count": null,
   "id": "d6ecc00a",
   "metadata": {},
   "outputs": [],
   "source": []
  }
 ],
 "metadata": {
  "kernelspec": {
   "display_name": "Python 3 (ipykernel)",
   "language": "python",
   "name": "python3"
  },
  "language_info": {
   "codemirror_mode": {
    "name": "ipython",
    "version": 3
   },
   "file_extension": ".py",
   "mimetype": "text/x-python",
   "name": "python",
   "nbconvert_exporter": "python",
   "pygments_lexer": "ipython3",
   "version": "3.9.12"
  }
 },
 "nbformat": 4,
 "nbformat_minor": 5
}
