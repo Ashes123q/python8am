{
 "cells": [
  {
   "cell_type": "code",
   "execution_count": 1,
   "id": "b76eddba",
   "metadata": {},
   "outputs": [
    {
     "name": "stdout",
     "output_type": "stream",
     "text": [
      "10\n"
     ]
    }
   ],
   "source": [
    "a=10\n",
    "print(a)"
   ]
  },
  {
   "cell_type": "code",
   "execution_count": null,
   "id": "12eb8a92",
   "metadata": {},
   "outputs": [],
   "source": [
    "a = 13\n",
    "print(a)"
   ]
  },
  {
   "cell_type": "code",
   "execution_count": 5,
   "id": "37a76072",
   "metadata": {},
   "outputs": [
    {
     "name": "stdout",
     "output_type": "stream",
     "text": [
      "True\n",
      "10 Hello World True\n",
      "10 <class 'str'>\n",
      "<class 'bool'>\n"
     ]
    }
   ],
   "source": [
    "a = 10\n",
    "b=\"Hello World\"\n",
    "c=True \n",
    "print(c)\n",
    "print(a,b,c)\n",
    "print(a,type(b))\n",
    "print(type(c))"
   ]
  },
  {
   "cell_type": "code",
   "execution_count": null,
   "id": "7e002bbf",
   "metadata": {},
   "outputs": [],
   "source": [
    "a = 11\n",
    "b = 10.5\n",
    "c = \"Hello World\"\n",
    "d = True\n",
    "print(a,b,c,d)\n",
    "print(type(a))\n",
    "print(type(d))\n",
    "type(b)"
   ]
  },
  {
   "cell_type": "code",
   "execution_count": null,
   "id": "d0037049",
   "metadata": {},
   "outputs": [],
   "source": [
    "a1=\"true\"\n",
    "print(a1\n",
    "    )\n"
   ]
  },
  {
   "cell_type": "code",
   "execution_count": null,
   "id": "df4ad3a7",
   "metadata": {},
   "outputs": [],
   "source": []
  },
  {
   "cell_type": "code",
   "execution_count": null,
   "id": "5cbc98d8",
   "metadata": {},
   "outputs": [],
   "source": [
    "# a=10\n",
    "# b=\"Hi\"\n",
    "# c='hahi'\n",
    "# d='''hiii'''\n",
    "\n",
    "\n",
    "\n",
    "\n",
    "\n"
   ]
  },
  {
   "cell_type": "code",
   "execution_count": null,
   "id": "ce4ea874",
   "metadata": {},
   "outputs": [],
   "source": [
    "# + - * / % ** //"
   ]
  },
  {
   "cell_type": "code",
   "execution_count": null,
   "id": "92a7da60",
   "metadata": {},
   "outputs": [],
   "source": [
    "a=10\n",
    "b=3\n",
    "c = a/b\n",
    "print(c\n",
    "    )"
   ]
  },
  {
   "cell_type": "code",
   "execution_count": null,
   "id": "ebfe28dc",
   "metadata": {},
   "outputs": [],
   "source": [
    "r=10\n",
    "area=3.14*r**2\n",
    "print(area)\n"
   ]
  },
  {
   "cell_type": "code",
   "execution_count": null,
   "id": "be0a5a99",
   "metadata": {},
   "outputs": [],
   "source": [
    "a = 10\n",
    "b = float(a)\n",
    "print(type(a))\n",
    "b"
   ]
  },
  {
   "cell_type": "code",
   "execution_count": null,
   "id": "3291e5b1",
   "metadata": {},
   "outputs": [],
   "source": [
    "a = \"gg\"\n",
    "b = int(a)\n",
    "b"
   ]
  },
  {
   "cell_type": "code",
   "execution_count": null,
   "id": "e455d72c",
   "metadata": {},
   "outputs": [],
   "source": [
    "10+20"
   ]
  },
  {
   "cell_type": "code",
   "execution_count": null,
   "id": "0bbed36f",
   "metadata": {},
   "outputs": [],
   "source": [
    "a = 10\n",
    "b = str(a)\n",
    "b"
   ]
  },
  {
   "cell_type": "markdown",
   "id": "30bb5f7e",
   "metadata": {},
   "source": [
    "# type casting / data type conversion"
   ]
  },
  {
   "cell_type": "code",
   "execution_count": null,
   "id": "5624258c",
   "metadata": {},
   "outputs": [],
   "source": [
    "a = 10\n",
    "b = complex(a)\n",
    "print(b)"
   ]
  },
  {
   "cell_type": "markdown",
   "id": "a972c172",
   "metadata": {},
   "source": [
    "# "
   ]
  },
  {
   "cell_type": "code",
   "execution_count": null,
   "id": "d77ea0f0",
   "metadata": {},
   "outputs": [],
   "source": [
    "a = \"10\"\n",
    "b = \"20\"\n",
    "c = int(a)+int(b)\n",
    "c"
   ]
  },
  {
   "cell_type": "code",
   "execution_count": null,
   "id": "18965e1e",
   "metadata": {},
   "outputs": [],
   "source": [
    "a = \"20\"\n",
    "b=int(a)\n",
    "print(b)"
   ]
  },
  {
   "cell_type": "markdown",
   "id": "ed3c1a20",
   "metadata": {},
   "source": [
    "# "
   ]
  },
  {
   "cell_type": "code",
   "execution_count": null,
   "id": "9f17ed7b",
   "metadata": {},
   "outputs": [],
   "source": [
    "a = 10 + 2j\n",
    "b=int(a)\n",
    "print(b)\n"
   ]
  },
  {
   "cell_type": "code",
   "execution_count": null,
   "id": "aac2f456",
   "metadata": {},
   "outputs": [],
   "source": [
    "a = 10.5\n",
    "b=int(a)\n",
    "print(b)"
   ]
  },
  {
   "cell_type": "code",
   "execution_count": null,
   "id": "bb34ebb7",
   "metadata": {},
   "outputs": [],
   "source": [
    "a = 20\n",
    "b = float(a)\n",
    "print(b)"
   ]
  },
  {
   "cell_type": "code",
   "execution_count": null,
   "id": "e233f012",
   "metadata": {},
   "outputs": [],
   "source": [
    "a = \"Ram said \\\"he is a doctor\""
   ]
  },
  {
   "cell_type": "code",
   "execution_count": null,
   "id": "ac55aec5",
   "metadata": {},
   "outputs": [],
   "source": [
    "a = \"19\"\n",
    "b = int(a)\n",
    "b"
   ]
  },
  {
   "cell_type": "code",
   "execution_count": null,
   "id": "02fa8c45",
   "metadata": {},
   "outputs": [],
   "source": [
    "\"10\"+10"
   ]
  },
  {
   "cell_type": "code",
   "execution_count": null,
   "id": "6bf4ce56",
   "metadata": {},
   "outputs": [],
   "source": [
    "a = 10.5\n",
    "b = str(a)\n",
    "b"
   ]
  },
  {
   "cell_type": "code",
   "execution_count": null,
   "id": "3b085eee",
   "metadata": {},
   "outputs": [],
   "source": [
    "a=\"100.5\"\n",
    "b = float(a)\n",
    "b"
   ]
  },
  {
   "cell_type": "code",
   "execution_count": null,
   "id": "b79a70b0",
   "metadata": {},
   "outputs": [],
   "source": [
    "a = 1.5\n",
    "b = int(a)\n",
    "b"
   ]
  },
  {
   "cell_type": "code",
   "execution_count": null,
   "id": "4a205fc7",
   "metadata": {},
   "outputs": [],
   "source": [
    "a = 1.4\n",
    "b = int(a)\n",
    "b"
   ]
  },
  {
   "cell_type": "code",
   "execution_count": null,
   "id": "59b6d629",
   "metadata": {},
   "outputs": [],
   "source": [
    "a = 1.7\n",
    "b = int(a)\n",
    "b"
   ]
  },
  {
   "cell_type": "code",
   "execution_count": null,
   "id": "f9e66db3",
   "metadata": {},
   "outputs": [],
   "source": [
    "a = 1.9999\n",
    "b = int(a)\n",
    "b"
   ]
  },
  {
   "cell_type": "code",
   "execution_count": null,
   "id": "a0ceb589",
   "metadata": {},
   "outputs": [],
   "source": [
    "a = 10.5\n",
    "b = str(a)\n",
    "print(b)\n",
    "type(b)"
   ]
  },
  {
   "cell_type": "code",
   "execution_count": null,
   "id": "f3b306fd",
   "metadata": {},
   "outputs": [],
   "source": [
    "a = 10\n",
    "b = 20\n",
    "print(a+b)"
   ]
  },
  {
   "cell_type": "code",
   "execution_count": null,
   "id": "773a7614",
   "metadata": {},
   "outputs": [],
   "source": [
    "a = input()\n",
    "print(a)"
   ]
  },
  {
   "cell_type": "code",
   "execution_count": 6,
   "id": "9ba37e3f",
   "metadata": {},
   "outputs": [
    {
     "name": "stdout",
     "output_type": "stream",
     "text": [
      "enter a=10\n",
      "enter b=20\n",
      "1020\n"
     ]
    }
   ],
   "source": [
    "a = input(\"enter a=\")\n",
    "b = input(\"enter b=\")\n",
    "c = a+b\n",
    "print(c)"
   ]
  },
  {
   "cell_type": "code",
   "execution_count": 7,
   "id": "0d053286",
   "metadata": {},
   "outputs": [
    {
     "name": "stdout",
     "output_type": "stream",
     "text": [
      "enter a number=10\n",
      "enter another number=20\n",
      "30\n"
     ]
    }
   ],
   "source": [
    "a = int(input(\"enter a number=\"))\n",
    "b = int(input(\"enter another number=\"))\n",
    "c = a+b\n",
    "print(c)"
   ]
  },
  {
   "cell_type": "code",
   "execution_count": null,
   "id": "941f954a",
   "metadata": {},
   "outputs": [],
   "source": [
    "a = int(input(\"enter a number=\"))\n",
    "b = int(input(\"enter another number=\"))\n",
    "c = a+b\n",
    "print(c)"
   ]
  },
  {
   "cell_type": "code",
   "execution_count": 8,
   "id": "48de6b2b",
   "metadata": {},
   "outputs": [
    {
     "name": "stdout",
     "output_type": "stream",
     "text": [
      "enter principle=1000\n",
      "enter time=5\n",
      "enter rate=10\n",
      "the interest is= 500.0\n"
     ]
    }
   ],
   "source": [
    "p = float(input(\"enter principle=\"))\n",
    "t = float(input(\"enter time=\"))\n",
    "r = float(input(\"enter rate=\"))\n",
    "\n",
    "i=p*t*r/100\n",
    "print(\"the interest is=\",i)"
   ]
  },
  {
   "cell_type": "code",
   "execution_count": null,
   "id": "68b2605c",
   "metadata": {},
   "outputs": [],
   "source": [
    "# Operator: + - * / % // **"
   ]
  },
  {
   "cell_type": "code",
   "execution_count": null,
   "id": "42312928",
   "metadata": {},
   "outputs": [],
   "source": [
    "a = 10\n",
    "b = 11\n",
    "c = a+b\n",
    "print(c)"
   ]
  },
  {
   "cell_type": "code",
   "execution_count": null,
   "id": "aa427abd",
   "metadata": {},
   "outputs": [],
   "source": [
    "a = \"10\"\n",
    "b = \"11\"\n",
    "c = a+b\n",
    "print(c)"
   ]
  },
  {
   "cell_type": "code",
   "execution_count": null,
   "id": "68a421d4",
   "metadata": {},
   "outputs": [],
   "source": [
    "a = 10\n",
    "b = 11\n",
    "c = a-b\n",
    "print(c)"
   ]
  },
  {
   "cell_type": "code",
   "execution_count": null,
   "id": "2257eb43",
   "metadata": {},
   "outputs": [],
   "source": [
    "a= 10\n",
    "print(a**3)"
   ]
  },
  {
   "cell_type": "code",
   "execution_count": null,
   "id": "233a54ac",
   "metadata": {},
   "outputs": [],
   "source": [
    "# ** = power, // = no decimal value division , % = remiander"
   ]
  },
  {
   "cell_type": "code",
   "execution_count": 1,
   "id": "0219fb73",
   "metadata": {},
   "outputs": [
    {
     "name": "stdout",
     "output_type": "stream",
     "text": [
      "(10+12j)\n"
     ]
    }
   ],
   "source": [
    "a = 10\n",
    "b = 12j\n",
    "c = a+b\n",
    "print(c)"
   ]
  },
  {
   "cell_type": "code",
   "execution_count": 2,
   "id": "6c7cd97f",
   "metadata": {},
   "outputs": [
    {
     "data": {
      "text/plain": [
       "complex"
      ]
     },
     "execution_count": 2,
     "metadata": {},
     "output_type": "execute_result"
    }
   ],
   "source": [
    "type(c)"
   ]
  },
  {
   "cell_type": "code",
   "execution_count": 4,
   "id": "101e113e",
   "metadata": {},
   "outputs": [
    {
     "name": "stdout",
     "output_type": "stream",
     "text": [
      "Hello World\n"
     ]
    },
    {
     "data": {
      "text/plain": [
       "'Hello World'"
      ]
     },
     "execution_count": 4,
     "metadata": {},
     "output_type": "execute_result"
    }
   ],
   "source": [
    "# String\n",
    "s = 'Hello World'\n",
    "s = \"Hello World\"\n",
    "s = '''Hello World'''\n",
    "print(s)\n",
    "s"
   ]
  },
  {
   "cell_type": "code",
   "execution_count": 6,
   "id": "ac702f53",
   "metadata": {},
   "outputs": [
    {
     "name": "stdout",
     "output_type": "stream",
     "text": [
      "Hello world\n"
     ]
    }
   ],
   "source": [
    "a = \"Hello\"\n",
    "b = \"world\"\n",
    "c = a+\" \"+b\n",
    "print(c)"
   ]
  },
  {
   "cell_type": "code",
   "execution_count": 7,
   "id": "5afaf058",
   "metadata": {},
   "outputs": [
    {
     "ename": "TypeError",
     "evalue": "can't multiply sequence by non-int of type 'str'",
     "output_type": "error",
     "traceback": [
      "\u001b[1;31m---------------------------------------------------------------------------\u001b[0m",
      "\u001b[1;31mTypeError\u001b[0m                                 Traceback (most recent call last)",
      "Input \u001b[1;32mIn [7]\u001b[0m, in \u001b[0;36m<cell line: 3>\u001b[1;34m()\u001b[0m\n\u001b[0;32m      1\u001b[0m a \u001b[38;5;241m=\u001b[39m \u001b[38;5;124m\"\u001b[39m\u001b[38;5;124mHello\u001b[39m\u001b[38;5;124m\"\u001b[39m\n\u001b[0;32m      2\u001b[0m b \u001b[38;5;241m=\u001b[39m \u001b[38;5;124m\"\u001b[39m\u001b[38;5;124mworld\u001b[39m\u001b[38;5;124m\"\u001b[39m\n\u001b[1;32m----> 3\u001b[0m c \u001b[38;5;241m=\u001b[39m \u001b[43ma\u001b[49m\u001b[38;5;241;43m*\u001b[39;49m\u001b[43mb\u001b[49m\n\u001b[0;32m      4\u001b[0m \u001b[38;5;28mprint\u001b[39m(c)\n",
      "\u001b[1;31mTypeError\u001b[0m: can't multiply sequence by non-int of type 'str'"
     ]
    }
   ],
   "source": [
    "a = \"Hello\"\n",
    "b = \"world\"\n",
    "c = a*b\n",
    "print(c)"
   ]
  },
  {
   "cell_type": "markdown",
   "id": "f10b819e",
   "metadata": {},
   "source": [
    "a = \"hello world\"\n",
    "print(a*2)"
   ]
  },
  {
   "cell_type": "code",
   "execution_count": 9,
   "id": "78536fb3",
   "metadata": {},
   "outputs": [
    {
     "name": "stdout",
     "output_type": "stream",
     "text": [
      "Hello world\n",
      "Hello world\n",
      "\n"
     ]
    }
   ],
   "source": [
    "a = \"Hello world\\n\"\n",
    "print(a*2)"
   ]
  },
  {
   "cell_type": "code",
   "execution_count": 15,
   "id": "537ac159",
   "metadata": {},
   "outputs": [
    {
     "name": "stdout",
     "output_type": "stream",
     "text": [
      "1\n"
     ]
    }
   ],
   "source": [
    "a = True\n",
    "b = False\n",
    "c = a+b\n",
    "print(c)"
   ]
  },
  {
   "cell_type": "code",
   "execution_count": 16,
   "id": "51c6d487",
   "metadata": {},
   "outputs": [
    {
     "name": "stdout",
     "output_type": "stream",
     "text": [
      "1\n"
     ]
    }
   ],
   "source": [
    "a = True\n",
    "b = True\n",
    "c = a*b\n",
    "print(c)"
   ]
  },
  {
   "cell_type": "code",
   "execution_count": null,
   "id": "791a1826",
   "metadata": {},
   "outputs": [],
   "source": []
  },
  {
   "cell_type": "code",
   "execution_count": null,
   "id": "8b634932",
   "metadata": {},
   "outputs": [],
   "source": [
    "# True =1 and False = 0"
   ]
  },
  {
   "cell_type": "code",
   "execution_count": 17,
   "id": "724ae266",
   "metadata": {},
   "outputs": [
    {
     "name": "stdout",
     "output_type": "stream",
     "text": [
      "10\n"
     ]
    }
   ],
   "source": [
    "a = \"10\"\n",
    "b = int(a)\n",
    "print(b)"
   ]
  },
  {
   "cell_type": "code",
   "execution_count": 18,
   "id": "146aa1fc",
   "metadata": {},
   "outputs": [
    {
     "name": "stdout",
     "output_type": "stream",
     "text": [
      "30\n"
     ]
    }
   ],
   "source": [
    "a = \"10\"\n",
    "b = \"20\"\n",
    "c = int(a)+int(b)\n",
    "print(c)"
   ]
  },
  {
   "cell_type": "code",
   "execution_count": 20,
   "id": "dcabb62f",
   "metadata": {},
   "outputs": [
    {
     "name": "stdout",
     "output_type": "stream",
     "text": [
      "10.0\n"
     ]
    }
   ],
   "source": [
    "print(float(a))"
   ]
  },
  {
   "cell_type": "code",
   "execution_count": 21,
   "id": "6a15e47f",
   "metadata": {},
   "outputs": [
    {
     "name": "stdout",
     "output_type": "stream",
     "text": [
      "10\n"
     ]
    }
   ],
   "source": [
    "a = 10\n",
    "b = str(a)\n",
    "print(b)"
   ]
  },
  {
   "cell_type": "code",
   "execution_count": 22,
   "id": "165f7baa",
   "metadata": {},
   "outputs": [
    {
     "data": {
      "text/plain": [
       "str"
      ]
     },
     "execution_count": 22,
     "metadata": {},
     "output_type": "execute_result"
    }
   ],
   "source": [
    "type(b)"
   ]
  },
  {
   "cell_type": "code",
   "execution_count": 29,
   "id": "7f16b73d",
   "metadata": {},
   "outputs": [
    {
     "name": "stdout",
     "output_type": "stream",
     "text": [
      "Hello world i am sabin,I am 23,I am from Kathmandu\n"
     ]
    }
   ],
   "source": [
    "name = \"sabin\"\n",
    "age = 23\n",
    "add = \"Kathmandu\"\n",
    "c = \"Hello world i am \"+name+\",\"+\"I am \"+str(age)+\",\"+\"I am from \"+add\n",
    "# \" \" is also a character\n",
    "print(c)"
   ]
  },
  {
   "cell_type": "code",
   "execution_count": null,
   "id": "defacb4a",
   "metadata": {},
   "outputs": [],
   "source": []
  }
 ],
 "metadata": {
  "kernelspec": {
   "display_name": "Python 3 (ipykernel)",
   "language": "python",
   "name": "python3"
  },
  "language_info": {
   "codemirror_mode": {
    "name": "ipython",
    "version": 3
   },
   "file_extension": ".py",
   "mimetype": "text/x-python",
   "name": "python",
   "nbconvert_exporter": "python",
   "pygments_lexer": "ipython3",
   "version": "3.9.12"
  }
 },
 "nbformat": 4,
 "nbformat_minor": 5
}
