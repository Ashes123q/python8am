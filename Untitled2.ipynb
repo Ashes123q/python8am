{
 "cells": [
  {
   "cell_type": "code",
   "execution_count": 2,
   "id": "1a7ba505",
   "metadata": {},
   "outputs": [
    {
     "name": "stdout",
     "output_type": "stream",
     "text": [
      "20\n",
      "60\n"
     ]
    }
   ],
   "source": [
    "class Cal:\n",
    "    def __init__(self,l,b,h):\n",
    "        self.l = l\n",
    "        self.b = b\n",
    "        self.h = h\n",
    "    def area(self):\n",
    "        return self.l*self.b\n",
    "    def volume(self):\n",
    "        return self.l*self.b*self.h\n",
    "\n",
    "obj = Cal(10,2,3)\n",
    "print(obj.area())\n",
    "print(obj.volume())"
   ]
  },
  {
   "cell_type": "code",
   "execution_count": null,
   "id": "1fbf817d",
   "metadata": {},
   "outputs": [],
   "source": [
    "class A:\n",
    "    pass\n",
    "\n",
    "class B(A):\n",
    "    pass\n",
    "\n",
    "obj = B()\n",
    "obj1 = A()"
   ]
  },
  {
   "cell_type": "code",
   "execution_count": 1,
   "id": "1a91f09d",
   "metadata": {},
   "outputs": [
    {
     "name": "stdout",
     "output_type": "stream",
     "text": [
      "enter name = ram\n",
      "enter age = 23\n",
      "I am ram and my age is 23\n"
     ]
    },
    {
     "data": {
      "text/plain": [
       "('ram', 23)"
      ]
     },
     "execution_count": 1,
     "metadata": {},
     "output_type": "execute_result"
    }
   ],
   "source": [
    "class A:\n",
    "    def __init__(self):\n",
    "        self.name = input(\"enter name = \")\n",
    "        self.age = int(input(\"enter age = \"))\n",
    "    def infos(self):\n",
    "        return self.name,self.age\n",
    "        \n",
    "class B(A):\n",
    "    def info(self):\n",
    "        print(f\"I am {self.name} and my age is {self.age}\")\n",
    "    \n",
    "obj = B()\n",
    "obj.info()\n",
    "obj.infos()\n",
    "\n",
    "\n",
    "    "
   ]
  },
  {
   "cell_type": "code",
   "execution_count": null,
   "id": "bdd30e2b",
   "metadata": {},
   "outputs": [],
   "source": [
    "class A:\n",
    "    def __init__(self,name,age):\n",
    "        self.name = name\n",
    "        self.age = age\n",
    "    def infos(self):\n",
    "        return self.name,self.age\n",
    "        \n",
    "class B(A):\n",
    "    def __init__(name,age,add):\n",
    "        self.add = add\n",
    "        A.__init__(self,name,add)\n",
    "        \n",
    "    def info(self):\n",
    "        print(f\"I am {self.name} and my age is {self.age}\")\n",
    "        \n",
    "\n",
    "        \n",
    "name = input(\"enter name = \")\n",
    "age = int(input(\"enter age = \"))\n",
    "add = input(\"enter address = \")\n",
    "    \n",
    "obj = B(name,age)\n",
    "obj.info()\n",
    "print(obj.infos())"
   ]
  },
  {
   "cell_type": "code",
   "execution_count": null,
   "id": "c53d3288",
   "metadata": {},
   "outputs": [],
   "source": [
    "class A:\n",
    "    pass\n",
    "\n",
    "class B(A):\n",
    "    pass\n",
    "\n",
    "class C(B):\n",
    "    pass\n",
    "\n",
    "obj = C()"
   ]
  },
  {
   "cell_type": "code",
   "execution_count": null,
   "id": "e8859208",
   "metadata": {},
   "outputs": [],
   "source": [
    "class A:\n",
    "    pass\n",
    "\n",
    "class B:\n",
    "    pass\n",
    "\n",
    "class C(A,B):\n",
    "    pass\n",
    "\n",
    "obj = C()"
   ]
  },
  {
   "cell_type": "code",
   "execution_count": null,
   "id": "585f3224",
   "metadata": {},
   "outputs": [],
   "source": [
    "class A:\n",
    "    def __init__(self,name):\n",
    "        self.name = name\n",
    "        \n",
    "    def infos(self):\n",
    "        return self.age\n",
    "    \n",
    "class B(A):\n",
    "    def __init__(self,name,age):\n",
    "        self.age = age\n",
    "        A.__init__(self,name)\n",
    "        \n",
    "class C(B):\n",
    "    def __init__(self,name,age,add)"
   ]
  }
 ],
 "metadata": {
  "kernelspec": {
   "display_name": "Python 3 (ipykernel)",
   "language": "python",
   "name": "python3"
  },
  "language_info": {
   "codemirror_mode": {
    "name": "ipython",
    "version": 3
   },
   "file_extension": ".py",
   "mimetype": "text/x-python",
   "name": "python",
   "nbconvert_exporter": "python",
   "pygments_lexer": "ipython3",
   "version": "3.9.12"
  }
 },
 "nbformat": 4,
 "nbformat_minor": 5
}
